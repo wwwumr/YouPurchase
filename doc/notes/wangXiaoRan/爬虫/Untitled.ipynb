{
 "cells": [
  {
   "cell_type": "code",
   "execution_count": 46,
   "metadata": {},
   "outputs": [
    {
     "name": "stdout",
     "output_type": "stream",
     "text": [
      "['https://blog.csdn.net/github_34708151/article/details/95165589', 'https://blog.csdn.net/github_34708151/article/details/95165589', 'https://blog.csdn.net/github_34708151/article/details/95165589', 'https://blog.csdn.net/chuangxin/article/details/94406187', 'https://blog.csdn.net/chuangxin/article/details/94406187', 'https://blog.csdn.net/chuangxin/article/details/94406187', 'https://blog.csdn.net/lfdfhl/article/details/95355351', 'https://blog.csdn.net/lfdfhl/article/details/95355351', 'https://blog.csdn.net/lfdfhl/article/details/95355351', 'https://blog.csdn.net/blogdevteam/article/details/94545970', 'https://blog.csdn.net/blogdevteam/article/details/94545970', 'https://blog.csdn.net/blogdevteam/article/details/94545970', 'https://blog.csdn.net/csdngkk/article/details/95342340', 'https://blog.csdn.net/lvlynn/article/details/95348232', 'https://blog.csdn.net/Coo123_/article/details/91562401', 'https://blog.csdn.net/Java_q705127209/article/details/91894233', 'https://blog.csdn.net/weixin_42446031/article/details/91541436', 'https://blog.csdn.net/weixin_44591106/article/details/95317512', 'https://blog.csdn.net/qwe123147369/article/details/91894668', 'https://blog.csdn.net/sinat_30657013/article/details/91876835', 'https://blog.csdn.net/youyou519/article/details/92251616', 'https://blog.csdn.net/dvfghj/article/details/94974894', 'https://blog.csdn.net/xlsj228/article/details/94777951', 'https://blog.csdn.net/qq_40061206/article/details/94767894', 'https://blog.csdn.net/qq_42646885/article/details/90315896', 'https://blog.csdn.net/weixin_40294256/article/details/95173232', 'https://blog.csdn.net/qq_37851620/article/details/94731227', 'https://blog.csdn.net/yulungggg/article/details/94861848', 'https://blog.csdn.net/weixin_45020839/article/details/92989659', 'https://blog.csdn.net/AdminPwd/article/details/91787120', 'https://blog.csdn.net/qq_37133717/article/details/94631028', 'https://blog.csdn.net/syy0201/article/details/91418804', 'https://blog.csdn.net/qq_19600291/article/details/78953809', 'https://blog.csdn.net/qq_42646885/article/details/95306302', 'https://blog.csdn.net/turingbooks/article/details/90696588', 'https://blog.csdn.net/turingbooks/article/details/90696588', 'https://blog.csdn.net/hollis_chuang/article/details/95167242', 'https://blog.csdn.net/hollis_chuang/article/details/95167242', 'https://blog.csdn.net/weixin_44135121/article/details/95056695', 'https://blog.csdn.net/weixin_44135121/article/details/95056695', 'https://blog.csdn.net/BEYONDMA/article/details/94888771', 'https://blog.csdn.net/BEYONDMA/article/details/94888771', 'https://blog.csdn.net/dog250/article/details/95101969', 'https://blog.csdn.net/dog250/article/details/95101969', 'https://blog.csdn.net/lzc4869/article/details/94968836', 'https://blog.csdn.net/lzc4869/article/details/94968836', 'https://blog.csdn.net/whale_kyle/article/details/95198626', 'https://blog.csdn.net/whale_kyle/article/details/95198626', 'https://blog.csdn.net/beibei_programme/article/details/95200816', 'https://blog.csdn.net/beibei_programme/article/details/95200816', 'https://blog.csdn.net/w605283073/article/details/94902637', 'https://blog.csdn.net/w605283073/article/details/94902637', 'https://blog.csdn.net/qq_38225558/article/details/94736404', 'https://blog.csdn.net/qq_38225558/article/details/94736404', 'https://blog.csdn.net/zzq900503/article/details/94735339', 'https://blog.csdn.net/zzq900503/article/details/94735339', 'https://blog.csdn.net/y277an/article/details/95041965', 'https://blog.csdn.net/y277an/article/details/95041965']\n"
     ]
    }
   ],
   "source": [
    "import requests\n",
    "import re\n",
    "\n",
    "url = \"https://blog.csdn.net/\"\n",
    "headers = {\n",
    "    'User-Agent': 'Mozilla/5.0 (Windows NT 10.0; Win64; x64) AppleWebKit/537.36 (KHTML, like Gecko) Chrome/74.0.3729.157 Safari/537.36'\n",
    "}\n",
    "response = requests.get(url, headers = headers)\n",
    "response.encoding = 'utf-8'\n",
    "res = str(response.text).replace(\"\\n\", '').replace(' ', '')\n",
    "string = \"<ahref=\\\"(https://blog\\.csdn\\.net/.{3,20}?/article/details/[0-9]+)\\\"target=\\\"_blank\\\"\"\n",
    "urls = re.findall(string, res)\n"
   ]
  },
  {
   "cell_type": "code",
   "execution_count": null,
   "metadata": {},
   "outputs": [],
   "source": []
  }
 ],
 "metadata": {
  "kernelspec": {
   "display_name": "Python 3",
   "language": "python",
   "name": "python3"
  }
 },
 "nbformat": 4,
 "nbformat_minor": 2
}
